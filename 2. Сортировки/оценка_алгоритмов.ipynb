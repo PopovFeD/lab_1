{
 "cells": [
  {
   "cell_type": "markdown",
   "metadata": {},
   "source": [
    "# Подготовка всего необходимого"
   ]
  },
  {
   "cell_type": "code",
   "execution_count": 8,
   "metadata": {},
   "outputs": [],
   "source": [
    "import matplotlib.pyplot as plt\n",
    "from matplotlib.ticker import (AutoMinorLocator, MultipleLocator, FuncFormatter)\n",
    "import numpy as np\n",
    "import pandas as pd\n",
    "from scipy.optimize import curve_fit\n",
    "from scipy.interpolate import (\n",
    "    UnivariateSpline,\n",
    "    CubicSpline,\n",
    "    make_interp_spline,\n",
    "    InterpolatedUnivariateSpline,\n",
    ")\n",
    "import warnings\n",
    "\n",
    "\n",
    "def mnk(approx_func, x, y, *args):\n",
    "    \"\"\"\n",
    "    Возвращает относительную погрешность аппроксимации к функции approx_func.\n",
    "\n",
    "    *args - дополнительные аргументы, которые подставляются в approx_func.\n",
    "    \"\"\"\n",
    "    ret = 0\n",
    "    for i in range(len(x)):\n",
    "        # print(y[i], np.polyval(polynom, x[i]))\n",
    "        if y[i] != 0:\n",
    "            ret += abs((y[i] - approx_func(x[i], *args)) / y[i])\n",
    "        else:\n",
    "            warnings.warn(\"МНК не работает при нулевой ординате!\")\n",
    "    return ret / len(x)\n",
    "\n",
    "\n",
    "def linear_approx_func(x, a, b):\n",
    "    \"\"\"Функция, к которой по-умолчанию считается аппроксимация.\"\"\"\n",
    "    return a * x + b\n",
    "\n",
    "\n",
    "def approx_label(vals, error, phrase, str_to_replace=\"★\", decimal_places=[2, 2]):\n",
    "    \"\"\"\n",
    "    Позволяет быстро подставлять в строку значения с ошибкой и округлением вместо фигурных скобок.\n",
    "    \"\"\"\n",
    "    formatted_vals = vectorized_to_latex(vals, decimal_places=decimal_places[0])\n",
    "    formatted_error = vectorized_to_latex(error, decimal_places=decimal_places[1])\n",
    "    \n",
    "    ret = []\n",
    "    for i in range(len(formatted_vals)):\n",
    "        ret.append(\"(\" + str(formatted_vals[i]) + r\"\\pm\" + str(formatted_error[i]) + \")\")\n",
    "        \n",
    "    result = phrase\n",
    "    for i in ret:\n",
    "        result = result.replace(str_to_replace, i, 1)\n",
    "    \n",
    "    return result\n",
    "\n",
    "def to_latex_format(x, decimal_places=2):\n",
    "    # Приводим число к научной нотации\n",
    "    scientific_notation = f\"{x:.{decimal_places}e}\"\n",
    "    # Разделяем число на мантиссу и порядок\n",
    "    mantissa, exponent = scientific_notation.split('e')\n",
    "    # Преобразуем порядок в целое число и удаляем ведущий знак\n",
    "    exponent = int(exponent)\n",
    "    # Форматируем в виде LaTeX\n",
    "    if exponent != 0:\n",
    "        return r\"{} \\cdot 10^{{{}}}\".format(mantissa, exponent)\n",
    "    else:\n",
    "        return r\"{}\".format(mantissa)\n",
    "\n",
    "# Применение векторизованной функции к массиву\n",
    "vectorized_to_latex = np.vectorize(to_latex_format)"
   ]
  },
  {
   "cell_type": "code",
   "execution_count": 9,
   "metadata": {},
   "outputs": [],
   "source": [
    "# соотношение сторон в графике\n",
    "X = 2\n",
    "Y = 1\n",
    "# длина графика по горизонтали\n",
    "L = 18\n",
    "\n",
    "inch = 2.54"
   ]
  },
  {
   "cell_type": "markdown",
   "metadata": {},
   "source": [
    "# Производим измерения"
   ]
  },
  {
   "cell_type": "code",
   "execution_count": 10,
   "metadata": {},
   "outputs": [],
   "source": [
    "import subprocess\n",
    "import random"
   ]
  },
  {
   "cell_type": "markdown",
   "metadata": {},
   "source": [
    "sorting = \"heap\"/\"merge\""
   ]
  },
  {
   "cell_type": "code",
   "execution_count": 11,
   "metadata": {},
   "outputs": [],
   "source": [
    "sorting = \"merge\"\n",
    "\n",
    "start = 10_000\n",
    "end = 1_000_000\n",
    "step = 10_000"
   ]
  },
  {
   "cell_type": "markdown",
   "metadata": {},
   "source": [
    "Бенчмарк. Может занять много времени, но вряд ли дольше минуты"
   ]
  },
  {
   "cell_type": "code",
   "execution_count": 12,
   "metadata": {},
   "outputs": [],
   "source": [
    "df = pd.DataFrame(columns=[\"N\", \"Time\"])\n",
    "\n",
    "for i in range(start, end + 1, step):\n",
    "    process1 = subprocess.run(\n",
    "        [\n",
    "            \"sortings_implementation.exe\",\n",
    "            str(i),\n",
    "            str(random.randint(0, 1_000_000_000)),\n",
    "            str(sorting),\n",
    "        ],  # Имя программы и параметры\n",
    "        text=True,  # Для работы с текстом, а не байтами\n",
    "        capture_output=True,  # Для захвата stdout и stderr\n",
    "        encoding=\"utf-8\",  # Задать правильную кодировку\n",
    "    )\n",
    "    df.loc[len(df)] = [i, float(process1.stdout)]\n",
    "\n",
    "\"\"\"\n",
    "# Вывод результата\n",
    "print(\"STDOUT:\", process1.stdout)  # Стандартный вывод\n",
    "print(\"STDERR:\", process1.stderr)  # Ошибки, если есть\n",
    "\"\"\"\n",
    "\n",
    "df.to_csv(sorting + \".csv\", sep=\";\", index=False)"
   ]
  },
  {
   "cell_type": "code",
   "execution_count": 13,
   "metadata": {},
   "outputs": [
    {
     "data": {
      "text/html": [
       "<div>\n",
       "<style scoped>\n",
       "    .dataframe tbody tr th:only-of-type {\n",
       "        vertical-align: middle;\n",
       "    }\n",
       "\n",
       "    .dataframe tbody tr th {\n",
       "        vertical-align: top;\n",
       "    }\n",
       "\n",
       "    .dataframe thead th {\n",
       "        text-align: right;\n",
       "    }\n",
       "</style>\n",
       "<table border=\"1\" class=\"dataframe\">\n",
       "  <thead>\n",
       "    <tr style=\"text-align: right;\">\n",
       "      <th></th>\n",
       "      <th>N</th>\n",
       "      <th>Time</th>\n",
       "    </tr>\n",
       "  </thead>\n",
       "  <tbody>\n",
       "    <tr>\n",
       "      <th>0</th>\n",
       "      <td>10000.0</td>\n",
       "      <td>0.004999</td>\n",
       "    </tr>\n",
       "    <tr>\n",
       "      <th>1</th>\n",
       "      <td>20000.0</td>\n",
       "      <td>0.006993</td>\n",
       "    </tr>\n",
       "    <tr>\n",
       "      <th>2</th>\n",
       "      <td>30000.0</td>\n",
       "      <td>0.011986</td>\n",
       "    </tr>\n",
       "    <tr>\n",
       "      <th>3</th>\n",
       "      <td>40000.0</td>\n",
       "      <td>0.010999</td>\n",
       "    </tr>\n",
       "    <tr>\n",
       "      <th>4</th>\n",
       "      <td>50000.0</td>\n",
       "      <td>0.017777</td>\n",
       "    </tr>\n",
       "    <tr>\n",
       "      <th>...</th>\n",
       "      <td>...</td>\n",
       "      <td>...</td>\n",
       "    </tr>\n",
       "    <tr>\n",
       "      <th>95</th>\n",
       "      <td>960000.0</td>\n",
       "      <td>0.250450</td>\n",
       "    </tr>\n",
       "    <tr>\n",
       "      <th>96</th>\n",
       "      <td>970000.0</td>\n",
       "      <td>0.238771</td>\n",
       "    </tr>\n",
       "    <tr>\n",
       "      <th>97</th>\n",
       "      <td>980000.0</td>\n",
       "      <td>0.257483</td>\n",
       "    </tr>\n",
       "    <tr>\n",
       "      <th>98</th>\n",
       "      <td>990000.0</td>\n",
       "      <td>0.259246</td>\n",
       "    </tr>\n",
       "    <tr>\n",
       "      <th>99</th>\n",
       "      <td>1000000.0</td>\n",
       "      <td>0.246629</td>\n",
       "    </tr>\n",
       "  </tbody>\n",
       "</table>\n",
       "<p>100 rows × 2 columns</p>\n",
       "</div>"
      ],
      "text/plain": [
       "            N      Time\n",
       "0     10000.0  0.004999\n",
       "1     20000.0  0.006993\n",
       "2     30000.0  0.011986\n",
       "3     40000.0  0.010999\n",
       "4     50000.0  0.017777\n",
       "..        ...       ...\n",
       "95   960000.0  0.250450\n",
       "96   970000.0  0.238771\n",
       "97   980000.0  0.257483\n",
       "98   990000.0  0.259246\n",
       "99  1000000.0  0.246629\n",
       "\n",
       "[100 rows x 2 columns]"
      ]
     },
     "execution_count": 13,
     "metadata": {},
     "output_type": "execute_result"
    }
   ],
   "source": [
    "df = pd.read_csv(sorting + \".csv\", comment=\"#\", delimiter=\";\")\n",
    "\n",
    "df"
   ]
  },
  {
   "cell_type": "markdown",
   "metadata": {},
   "source": [
    "График в логарифмическом масштабе"
   ]
  },
  {
   "cell_type": "code",
   "execution_count": 14,
   "metadata": {},
   "outputs": [
    {
     "name": "stderr",
     "output_type": "stream",
     "text": [
      "<>:28: SyntaxWarning: invalid escape sequence '\\c'\n",
      "<>:28: SyntaxWarning: invalid escape sequence '\\c'\n",
      "C:\\Users\\Fed\\AppData\\Local\\Temp\\ipykernel_11800\\1630931266.py:28: SyntaxWarning: invalid escape sequence '\\c'\n",
      "  '''\n"
     ]
    },
    {
     "data": {
      "image/png": "[encoded data removed]",
      "text/plain": [
       "<Figure size 708.661x354.331 with 1 Axes>"
      ]
     },
     "metadata": {},
     "output_type": "display_data"
    }
   ],
   "source": [
    "x, y = np.log(df[\"N\"]), np.log(df[\"Time\"])\n",
    "y_err = 0.002 * np.abs(y)\n",
    "\n",
    "plt.figure(figsize=(L / inch, (L * Y / X) / inch))\n",
    "\n",
    "\n",
    "plt.errorbar(\n",
    "    x,\n",
    "    y,\n",
    "    fmt=\"o\",\n",
    "    label=\"Экспериментальные данные\",\n",
    "    # xerr=x_err,\n",
    "    yerr=y_err,\n",
    ")\n",
    "\n",
    "\n",
    "# наклонная\n",
    "slc = slice(None, None)\n",
    "vals, error = curve_fit(linear_approx_func, x[slc], y[slc], sigma=y_err[slc], p0=None)\n",
    "error = np.diag(error)\n",
    "plt.plot(\n",
    "    x,\n",
    "    linear_approx_func(x, *vals),\n",
    "    label=approx_label(vals, error, r\"$y = э x + э$\", str_to_replace=\"э\"),\n",
    ")\n",
    "\n",
    "\n",
    "'''\n",
    "# n * log n\n",
    "def frac(x, a):\n",
    "    return a * x * np.log(x)\n",
    "\n",
    "\n",
    "vals, error = curve_fit(frac, x, y, sigma=y_err, p0=None)\n",
    "error = np.diag(error)\n",
    "x_approx = np.linspace(start, end, step)\n",
    "plt.plot(\n",
    "    x_approx,\n",
    "    frac(x_approx, *vals),\n",
    "    label=approx_label(vals, error, r\"$y = ★ \\cdot x \\cdot \\log(x)$\"),\n",
    ")\n",
    "'''\n",
    "\n",
    "plt.grid()\n",
    "plt.xlabel(r\"$\\log{N}$\", fontsize=12)\n",
    "plt.ylabel(r\"$\\log{t}$\", fontsize=12)\n",
    "plt.legend()\n",
    "plt.subplots_adjust(bottom=0.14)\n",
    "\n",
    "plt.savefig(f\"{sorting}.pdf\")"
   ]
  }
 ],
 "metadata": {
  "kernelspec": {
   "display_name": "Python 3",
   "language": "python",
   "name": "python3"
  },
  "language_info": {
   "codemirror_mode": {
    "name": "ipython",
    "version": 3
   },
   "file_extension": ".py",
   "mimetype": "text/x-python",
   "name": "python",
   "nbconvert_exporter": "python",
   "pygments_lexer": "ipython3",
   "version": "3.13.0"
  }
 },
 "nbformat": 4,
 "nbformat_minor": 2
}
