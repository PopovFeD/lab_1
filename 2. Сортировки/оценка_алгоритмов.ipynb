{
 "cells": [
  {
   "cell_type": "markdown",
   "metadata": {},
   "source": [
    "# Подготовка всего необходимого"
   ]
  },
  {
   "cell_type": "code",
   "execution_count": null,
   "metadata": {},
   "outputs": [],
   "source": [
    "import matplotlib.pyplot as plt\n",
    "from matplotlib.ticker import (AutoMinorLocator, MultipleLocator, FuncFormatter)\n",
    "import numpy as np\n",
    "import pandas as pd\n",
    "from scipy.optimize import curve_fit\n",
    "from scipy.interpolate import (\n",
    "    UnivariateSpline,\n",
    "    CubicSpline,\n",
    "    make_interp_spline,\n",
    "    InterpolatedUnivariateSpline,\n",
    ")\n",
    "import warnings\n",
    "\n",
    "\n",
    "def mnk(approx_func, x, y, *args):\n",
    "    \"\"\"\n",
    "    Возвращает относительную погрешность аппроксимации к функции approx_func.\n",
    "\n",
    "    *args - дополнительные аргументы, которые подставляются в approx_func.\n",
    "    \"\"\"\n",
    "    ret = 0\n",
    "    for i in range(len(x)):\n",
    "        # print(y[i], np.polyval(polynom, x[i]))\n",
    "        if y[i] != 0:\n",
    "            ret += abs((y[i] - approx_func(x[i], *args)) / y[i])\n",
    "        else:\n",
    "            warnings.warn(\"МНК не работает при нулевой ординате!\")\n",
    "    return ret / len(x)\n",
    "\n",
    "\n",
    "def linear_approx_func(x, a, b):\n",
    "    \"\"\"Функция, к которой по-умолчанию считается аппроксимация.\"\"\"\n",
    "    return a * x + b\n",
    "\n",
    "\n",
    "def approx_label(vals, error, phrase, str_to_replace=\"★\", decimal_places=[2, 2]):\n",
    "    \"\"\"\n",
    "    Позволяет быстро подставлять в строку значения с ошибкой и округлением вместо фигурных скобок.\n",
    "    \"\"\"\n",
    "    formatted_vals = vectorized_to_latex(vals, decimal_places=decimal_places[0])\n",
    "    formatted_error = vectorized_to_latex(error, decimal_places=decimal_places[1])\n",
    "    \n",
    "    ret = []\n",
    "    for i in range(len(formatted_vals)):\n",
    "        ret.append(\"(\" + str(formatted_vals[i]) + r\"\\pm\" + str(formatted_error[i]) + \")\")\n",
    "        \n",
    "    result = phrase\n",
    "    for i in ret:\n",
    "        result = result.replace(str_to_replace, i, 1)\n",
    "    \n",
    "    return result\n",
    "\n",
    "def to_latex_format(x, decimal_places=2):\n",
    "    # Приводим число к научной нотации\n",
    "    scientific_notation = f\"{x:.{decimal_places}e}\"\n",
    "    # Разделяем число на мантиссу и порядок\n",
    "    mantissa, exponent = scientific_notation.split('e')\n",
    "    # Преобразуем порядок в целое число и удаляем ведущий знак\n",
    "    exponent = int(exponent)\n",
    "    # Форматируем в виде LaTeX\n",
    "    if exponent != 0:\n",
    "        return r\"{} \\cdot 10^{{{}}}\".format(mantissa, exponent)\n",
    "    else:\n",
    "        return r\"{}\".format(mantissa)\n",
    "\n",
    "# Применение векторизованной функции к массиву\n",
    "vectorized_to_latex = np.vectorize(to_latex_format)"
   ]
  },
  {
   "cell_type": "code",
   "execution_count": null,
   "metadata": {},
   "outputs": [],
   "source": [
    "# соотношение сторон в графике\n",
    "X = 2\n",
    "Y = 1\n",
    "# длина графика по горизонтали\n",
    "L = 18\n",
    "\n",
    "inch = 2.54"
   ]
  },
  {
   "cell_type": "markdown",
   "metadata": {},
   "source": [
    "# Производим измерения"
   ]
  },
  {
   "cell_type": "code",
   "execution_count": null,
   "metadata": {},
   "outputs": [],
   "source": [
    "import subprocess\n",
    "import random"
   ]
  },
  {
   "cell_type": "markdown",
   "metadata": {},
   "source": [
    "sorting = \"heap\"/\"merge\""
   ]
  },
  {
   "cell_type": "code",
   "execution_count": null,
   "metadata": {},
   "outputs": [],
   "source": [
    "sorting = \"merge\"\n",
    "\n",
    "start = 10_000\n",
    "end = 1_000_000\n",
    "step = 10_000"
   ]
  },
  {
   "cell_type": "markdown",
   "metadata": {},
   "source": [
    "Бенчмарк. Может занять много времени, но вряд ли дольше минуты"
   ]
  },
  {
   "cell_type": "code",
   "execution_count": null,
   "metadata": {},
   "outputs": [],
   "source": [
    "df = pd.DataFrame(columns=[\"N\", \"Time\"])\n",
    "\n",
    "for i in range(start, end + 1, step):\n",
    "    process1 = subprocess.run(\n",
    "        [\n",
    "            \"sortings_implementation.exe\",\n",
    "            str(i),\n",
    "            str(random.randint(0, 1_000_000_000)),\n",
    "            str(sorting),\n",
    "        ],  # Имя программы и параметры\n",
    "        text=True,  # Для работы с текстом, а не байтами\n",
    "        capture_output=True,  # Для захвата stdout и stderr\n",
    "        encoding=\"utf-8\",  # Задать правильную кодировку\n",
    "    )\n",
    "    df.loc[len(df)] = [i, float(process1.stdout)]\n",
    "\n",
    "\"\"\"\n",
    "# Вывод результата\n",
    "print(\"STDOUT:\", process1.stdout)  # Стандартный вывод\n",
    "print(\"STDERR:\", process1.stderr)  # Ошибки, если есть\n",
    "\"\"\"\n",
    "\n",
    "df.to_csv(sorting + \".csv\", sep=\";\", index=False)"
   ]
  },
  {
   "cell_type": "markdown",
   "metadata": {},
   "source": [
    "# Строим график в логарифмическом масштабе"
   ]
  },
  {
   "cell_type": "code",
   "execution_count": null,
   "metadata": {},
   "outputs": [],
   "source": [
    "df = pd.read_csv(sorting + \".csv\", comment=\"#\", delimiter=\";\")\n",
    "\n",
    "df"
   ]
  },
  {
   "cell_type": "code",
   "execution_count": null,
   "metadata": {},
   "outputs": [],
   "source": [
    "x, y = np.log(df[\"N\"]), np.log(df[\"Time\"])\n",
    "y_err = 0.002 * np.abs(y)\n",
    "\n",
    "plt.figure(figsize=(L / inch, (L * Y / X) / inch))\n",
    "\n",
    "\n",
    "plt.errorbar(\n",
    "    x,\n",
    "    y,\n",
    "    fmt=\"o\",\n",
    "    label=\"Экспериментальные данные\",\n",
    "    # xerr=x_err,\n",
    "    yerr=y_err,\n",
    ")\n",
    "\n",
    "\n",
    "# наклонная\n",
    "slc = slice(None, None)\n",
    "vals, error = curve_fit(linear_approx_func, x[slc], y[slc], sigma=y_err[slc], p0=None)\n",
    "error = np.diag(error)\n",
    "plt.plot(\n",
    "    x,\n",
    "    linear_approx_func(x, *vals),\n",
    "    label=approx_label(vals, error, r\"$y = э x + э$\", str_to_replace=\"э\"),\n",
    ")\n",
    "\n",
    "\n",
    "'''\n",
    "# n * log n\n",
    "def frac(x, a):\n",
    "    return a * x * np.log(x)\n",
    "\n",
    "\n",
    "vals, error = curve_fit(frac, x, y, sigma=y_err, p0=None)\n",
    "error = np.diag(error)\n",
    "x_approx = np.linspace(start, end, step)\n",
    "plt.plot(\n",
    "    x_approx,\n",
    "    frac(x_approx, *vals),\n",
    "    label=approx_label(vals, error, r\"$y = ★ \\cdot x \\cdot \\log(x)$\"),\n",
    ")\n",
    "'''\n",
    "\n",
    "plt.grid()\n",
    "plt.xlabel(r\"$\\log{N}$\", fontsize=12)\n",
    "plt.ylabel(r\"$\\log{t}$\", fontsize=12)\n",
    "plt.legend()\n",
    "plt.subplots_adjust(bottom=0.14)\n",
    "\n",
    "plt.savefig(f\"{sorting}.pdf\")"
   ]
  }
 ],
 "metadata": {
  "kernelspec": {
   "display_name": "Python 3",
   "language": "python",
   "name": "python3"
  },
  "language_info": {
   "codemirror_mode": {
    "name": "ipython",
    "version": 3
   },
   "file_extension": ".py",
   "mimetype": "text/x-python",
   "name": "python",
   "nbconvert_exporter": "python",
   "pygments_lexer": "ipython3",
   "version": "3.13.0"
  }
 },
 "nbformat": 4,
 "nbformat_minor": 2
}
